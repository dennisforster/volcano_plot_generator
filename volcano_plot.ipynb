{
 "cells": [
  {
   "cell_type": "code",
   "execution_count": null,
   "metadata": {
    "id": "jvob8MbY05kN"
   },
   "outputs": [],
   "source": [
    "import os\n",
    "import glob\n",
    "import pandas as pd\n",
    "import plotly.express as px\n",
    "import numpy as np\n",
    "import configparser\n",
    "import pathlib\n",
    "from tqdm.auto import tqdm"
   ]
  },
  {
   "cell_type": "code",
   "execution_count": null,
   "metadata": {},
   "outputs": [],
   "source": [
    "# Load config file and set parameters\n",
    "config = configparser.ConfigParser()\n",
    "config.read('config.ini')\n",
    "DATA_FOLDER = config[\"DEFAULT\"][\"DATA_FOLDER\"]\n",
    "LOG2FOLDCHANGE_COLUMN = config[\"DEFAULT\"][\"LOG2FOLDCHANGE_COLUMN\"]\n",
    "PADJ_COLUMN = config[\"DEFAULT\"][\"PADJ_COLUMN\"]\n",
    "GENENAME_COLUMN = config[\"DEFAULT\"][\"GENENAME_COLUMN\"]\n",
    "LOG2FOLDCHANGE_THRESHOLD = float(config[\"DEFAULT\"][\"LOG2FOLDCHANGE_THRESHOLD\"])\n",
    "PVALUE_THRESHOLD = float(config[\"DEFAULT\"][\"PVALUE_THRESHOLD\"])"
   ]
  },
  {
   "cell_type": "code",
   "execution_count": null,
   "metadata": {
    "colab": {
     "base_uri": "https://localhost:8080/"
    },
    "id": "bDNQ9czC1DqM",
    "outputId": "61158844-33d2-4e09-e17a-3d2e6f178695"
   },
   "outputs": [],
   "source": [
    "# find all xls or xlsx files in DATA_FOLDER\n",
    "files = [file for file in glob.glob(os.path.join(DATA_FOLDER, \"*.xls*\"))]\n",
    "\n",
    "# Remove duplicates with different (.xlsx and .xls) endings and keep only the .xlsx\n",
    "files = list({os.path.splitext(os.path.basename(f))[0]: f for f in files}.values())\n",
    "\n",
    "print(f\"Processing {len(files)} files in {DATA_FOLDER}:\")\n",
    "for file_path in files:\n",
    "    print(f\"   • {os.path.basename(file_path)}\")\n",
    "print(f\"Using column '{LOG2FOLDCHANGE_COLUMN}' as log2-fold-change column.\")\n",
    "print(f\"Using column '{PADJ_COLUMN}' as adjusted-p-value column.\")\n",
    "print(f\"Using column '{GENENAME_COLUMN}' as gene name column.\")"
   ]
  },
  {
   "cell_type": "code",
   "execution_count": null,
   "metadata": {
    "id": "Zqx0M8AC1X4u"
   },
   "outputs": [],
   "source": [
    "def create_volcano_plot(excel_file_name, log2foldchange_column=\"log2FoldChange\", padj_column=\"padj\", genename_column=\"gene_name\", log2foldchange_threshold=1, pvalue_threshold=0.05):\n",
    "    \"\"\"\n",
    "    Creates a volcano plot from differential expression data stored in .xls or .xlsx files.\n",
    "\n",
    "    This function reads the input Excel file containing gene expression data, computes\n",
    "    log-transformed p-values, assigns colors to represent upregulated, downregulated,\n",
    "    and neutral genes based on log2-fold-change and adjusted p-values (padj), and then\n",
    "    generates an interactive volcano plot. The plot is saved as an HTML file.\n",
    "\n",
    "    Parameters:\n",
    "    -----------\n",
    "    excel_file_name : str\n",
    "        The name of the Excel file (with path if needed) containing the data.\n",
    "        The file can be in '.xls' or '.xlsx' format.\n",
    "\n",
    "    log2foldchange_column : str, optional\n",
    "        The name of the column in the Excel file representing the log2-fold-change values\n",
    "        (default is \"log2FoldChange\").\n",
    "\n",
    "    padj_column : str, optional\n",
    "        The name of the column in the Excel file representing the adjusted p-values\n",
    "        (default is \"padj\").\n",
    "\n",
    "    padj_column : str, optional\n",
    "        The name of the column in the Excel file representing the gene name\n",
    "        (default is \"gene_name\").\n",
    "\n",
    "    log2foldchange_threshold : float, optional\n",
    "        Threshold for log2 fold-change to classify genes as upregulated or downregulated \n",
    "        (default: 1).\n",
    "\n",
    "    pvalue_threshold : float, optional\n",
    "        Threshold for adjusted p-values to identify significant genes (default: 0.05).\n",
    "\n",
    "    Processing:\n",
    "    -----------\n",
    "    - The Excel file is read into a Pandas DataFrame.\n",
    "    - A new 'color' column is created to categorize genes as 'UP', 'DOWN', or 'NO' based on\n",
    "      the log2-fold-change and adjusted p-value:\n",
    "          UP:   log2FoldChange > 1 & p-value < 0.05\n",
    "          DOWN: log2FoldChange < 1 & p-value < 0.05\n",
    "          NO:   all other\n",
    "    - The negative log10 of the adjusted p-values (-log10(padj)) is calculated.\n",
    "    - A scatter plot is created using Plotly, with genes colored according to their regulation\n",
    "      status (upregulated, downregulated, or not significant).\n",
    "    - Vertical and horizontal threshold lines are added to the plot, indicating fold-change\n",
    "      and significance cutoffs.\n",
    "    - The plot legend includes counts of 'UP', 'DOWN', and 'NO' genes.\n",
    "    - The resulting volcano plot is saved as an HTML file in the same directory as the input file.\n",
    "\n",
    "    Returns:\n",
    "    --------\n",
    "    None\n",
    "        The function generates an HTML file for the volcano plot.\n",
    "\n",
    "    Example:\n",
    "    --------\n",
    "    create_volcano_plot(\"differential_expression_data.xlsx\")\n",
    "    \"\"\"\n",
    "\n",
    "    # load dataframe\n",
    "    suffix = pathlib.Path(excel_file_name).suffix\n",
    "    if suffix == \".xls\":\n",
    "        # for old Excel formats\n",
    "        df = pd.read_table(excel_file_name)\n",
    "        df.to_excel((\"\".join([excel_file_name.removesuffix(pathlib.Path(excel_file_name).suffix), \".xlsx\"])))\n",
    "    else:\n",
    "        df = pd.read_excel(excel_file_name, engine=\"openpyxl\")\n",
    "\n",
    "    if log2foldchange_column not in df.columns:\n",
    "        raise ValueError(f\"Column '{log2foldchange_column}' not found in the Excel file. Please check the config.ini and make sure the column exists in the Excel file.\")\n",
    "    if padj_column not in df.columns:\n",
    "        raise ValueError(f\"Column '{padj_column}' not found in the Excel file. Please check the config.ini and make sure the column exists in the Excel file.\")\n",
    "    if genename_column not in df.columns:\n",
    "        raise ValueError(f\"Column '{genename_column}' not found in the Excel file. Please check the config.ini and make sure the column exists in the Excel file.\")\n",
    "\n",
    "    # add new columns for UP, DOWN, NO and -log10(padj)\n",
    "    df['color'] = 'NO'\n",
    "    df.loc[(df[log2foldchange_column] < -log2foldchange_threshold) & (df[padj_column] < pvalue_threshold), 'color'] = 'DOWN'\n",
    "    df.loc[(df[log2foldchange_column] > log2foldchange_threshold) & (df[padj_column] < pvalue_threshold), 'color'] = 'UP'\n",
    "    df['-log10(padj)'] = -np.log10(df[padj_column])\n",
    "\n",
    "    # create volcano-plot\n",
    "    color_discrete_map = {'UP': 'firebrick', 'DOWN': 'forestgreen', 'NO': 'lightgray'}\n",
    "    fig = px.scatter(\n",
    "        df,\n",
    "        x=\"log2FoldChange\",\n",
    "        y=\"-log10(padj)\",\n",
    "        color='color',\n",
    "        color_discrete_map=color_discrete_map,\n",
    "        labels={'color': f'padj<{pvalue_threshold:.4g} <br>|log2FoldChange|>{log2foldchange_threshold:.4g}'},\n",
    "        custom_data=[genename_column],\n",
    "        template=\"plotly_white\",\n",
    "        title=os.path.basename(excel_file_name).removesuffix(pathlib.Path(excel_file_name).suffix),\n",
    "        render_mode=\"svg\",\n",
    "    ).update_traces(\n",
    "        hovertemplate=\"<b>%{customdata[0]}</b><br>\"+\"<extra></extra>\",\n",
    "        # \"-log10(padj): %{y:.2f}<br>\" +\n",
    "        # \"log2FoldChange: %{x:.2f}\",\n",
    "    )\n",
    "\n",
    "    # add counts of UP, DOWN and NO to legend\n",
    "    newnames = {val: f'{val} {df.color.value_counts()[f\"{val}\"]}' for val in df.color.unique()}\n",
    "    fig.for_each_trace(lambda t: t.update(\n",
    "        name=newnames[t.name],\n",
    "        legendgroup=newnames[t.name],\n",
    "        hovertemplate=t.hovertemplate.replace(t.name, newnames[t.name])\n",
    "    ))\n",
    "\n",
    "    # add vertical and horizontal lines\n",
    "    fig.add_vline(x=-log2foldchange_threshold, line_width=3, line_dash=\"dash\", line_color=\"lightgray\")\n",
    "    fig.add_vline(x=log2foldchange_threshold, line_width=3, line_dash=\"dash\", line_color=\"lightgray\")\n",
    "    fig.add_hline(y=-np.log10(pvalue_threshold), line_width=3, line_dash=\"dash\", line_color=\"lightgray\")\n",
    "\n",
    "    fig2 = px.scatter(\n",
    "        df.loc[(df[log2foldchange_column] < -log2foldchange_threshold) & (df[padj_column] < pvalue_threshold) | (df[log2foldchange_column] > log2foldchange_threshold) & (df[padj_column] < pvalue_threshold)],\n",
    "        x=\"log2FoldChange\",\n",
    "        y=\"-log10(padj)\",\n",
    "        # labels={'color': f'padj<{pvalue_threshold:.4g} <br>|log2FoldChange|>{log2foldchange_threshold:.4g}'},\n",
    "        render_mode=\"svg\",\n",
    "        text=genename_column,\n",
    "    ).update_traces(marker_opacity=0, textposition='top center')\n",
    "\n",
    "    fig.add_trace(fig2.data[0].update(name='Gene Names', visible='legendonly', showlegend=True))\n",
    "    fig.for_each_trace(lambda trace: trace.update(marker=dict(size=0, color=\"white\")) if trace.name == 'Gene Names' else ())\n",
    "\n",
    "    fig.show()\n",
    "    fig.write_html(\".\".join([excel_file_name.removesuffix(pathlib.Path(excel_file_name).suffix), \"html\"]))"
   ]
  },
  {
   "cell_type": "code",
   "execution_count": null,
   "metadata": {
    "colab": {
     "base_uri": "https://localhost:8080/",
     "height": 1000
    },
    "id": "MYZ6_YUF2QjX",
    "outputId": "912de22c-34b0-45f7-cb65-cc0d46146ab6"
   },
   "outputs": [],
   "source": [
    "print(\"Creating volcano plots:\")\n",
    "for file in tqdm(files):\n",
    "    create_volcano_plot(file, LOG2FOLDCHANGE_COLUMN, PADJ_COLUMN, GENENAME_COLUMN, LOG2FOLDCHANGE_THRESHOLD, PVALUE_THRESHOLD)"
   ]
  },
  {
   "cell_type": "code",
   "execution_count": null,
   "metadata": {
    "id": "rgDvFJ6SGyqJ"
   },
   "outputs": [],
   "source": []
  }
 ],
 "metadata": {
  "colab": {
   "provenance": []
  },
  "kernelspec": {
   "display_name": "Volcano Plot",
   "language": "python",
   "name": "volcano-plot"
  },
  "language_info": {
   "codemirror_mode": {
    "name": "ipython",
    "version": 3
   },
   "file_extension": ".py",
   "mimetype": "text/x-python",
   "name": "python",
   "nbconvert_exporter": "python",
   "pygments_lexer": "ipython3",
   "version": "3.11.10"
  },
  "widgets": {
   "application/vnd.jupyter.widget-state+json": {
    "state": {},
    "version_major": 2,
    "version_minor": 0
   }
  }
 },
 "nbformat": 4,
 "nbformat_minor": 4
}
